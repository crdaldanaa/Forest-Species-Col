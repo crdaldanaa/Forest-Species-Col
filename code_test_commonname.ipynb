{
 "cells": [
  {
   "cell_type": "code",
   "execution_count": 3,
   "metadata": {},
   "outputs": [],
   "source": [
    "#Importamos todos los paquetes necesarios\n",
    "import requests\n",
    "from bs4 import BeautifulSoup\n",
    "import re\n",
    "import openpyxl\n",
    "from lxml import etree\n",
    "import pandas as pd"
   ]
  },
  {
   "cell_type": "code",
   "execution_count": 33,
   "metadata": {},
   "outputs": [],
   "source": [
    "# Adjuntamos la URL que se va a scrappear\n",
    "url = \"http://www.biovirtual.unal.edu.co/nombrescomunes/es/resultados/ncientifico/Abarema%20adenophora/\"\n"
   ]
  },
  {
   "cell_type": "code",
   "execution_count": 34,
   "metadata": {},
   "outputs": [
    {
     "data": {
      "text/plain": [
       "'\\n<!DOCTYPE html>\\n<!--[if lt IE 7]> <html class=\"ie6 oldie\"> <![endif]-->\\n<!--[if IE 7]> <html class=\"ie7 oldie\"> <![endif]-->\\n<!--[if IE 8]> <html class=\"ie8 oldie\"> <![endif]-->\\n<!--[if IE 9]> <html class=\"ie9 oldie\"> <![endif]-->\\n<!--[if (gt IE 9)|!(IE)]><!-->\\n<html>\\n<!--<![endif]-->\\n\\n<head>\\n    <meta charset=\"utf-8\">\\n    <!--\\n  =============================================================================\\n  === PLANTILLA DESARROLLADA POR LA OFICINA DE MEDIOS DIGITALES - UNIMEDIOS ===\\n  ================================================================================================\\n  = Desarrollo: Angela Checa Hurtado acchecah@unal.edu.co -  Instituto de Ciencias Naturales ===\\n  ================================================================================================\\n-->\\n\\n    <!-- base href=\"http://subdominio.unal.edu.co/\" -->\\n    <link rel=\"shortcut icon\" href=\"/nombresstatic/images/favicon.ico\" type=\"image/x-icon\">\\n\\n\\n    <meta name=\"revisit-after\" content=\"1 hour\">\\n    <meta name=\"distribution\" content=\"all\">\\n    <meta name=\"viewport\" content=\"width=device-width, initial-scale=1.0, minimum-scale=0.5, maximum-scale=2.5, user-scalable=yes\">\\n    <meta name=\"expires\" content=\"1\">\\n    <meta http-equiv=\"X-UA-Compatible\" content=\"IE=edge\">\\n    <meta name=\"robots\" content=\"all\">\\n\\n    <link rel=\"stylesheet\" type=\"text/css\" href=\"/nombresstatic/css/jquery-ui.min.css\" media=\"all\">\\n    <link rel=\"stylesheet\" type=\"text/css\" href=\"/nombresstatic/css/jquery-ui.structure.min.css\" media=\"all\">\\n    <link rel=\"stylesheet\" type=\"text/css\" href=\"/nombresstatic/css/jquery-ui-1.10.0.custom.css\" media=\"all\">\\n    <link rel=\"stylesheet\" type=\"text/css\" href=\"/nombresstatic/css/jquery-ui-1.10.0.custom.min.css\" media=\"all\">\\n\\n    <link rel=\"stylesheet\" type=\"text/css\" href=\"/nombresstatic/css/bootstrap.min.css\" media=\"all\">\\n    <link rel=\"stylesheet\" type=\"text/css\" href=\"/nombresstatic/css/bootstrap-theme.min.css\" media=\"all\">\\n    <link rel=\"stylesheet\" type=\"text/css\" href=\"/nombresstatic/css/reset.css\" media=\"all\">\\n    <link rel=\"stylesheet\" type=\"text/css\" href=\"/nombresstatic/css/names.css\" media=\"all\">\\n    <link rel=\"stylesheet\" type=\"text/css\" href=\"/nombresstatic/css/unal.css\" media=\"all\">\\n    <link rel=\"stylesheet\" type=\"text/css\" href=\"/nombresstatic/css/base.css\" media=\"all\">\\n    <link rel=\"stylesheet\" type=\"text/css\" href=\"/nombresstatic/css/tablet.css\" media=\"all\">\\n    <link rel=\"stylesheet\" type=\"text/css\" href=\"/nombresstatic/css/phone.css\" media=\"all\">\\n    <link rel=\"stylesheet\" type=\"text/css\" href=\"/nombresstatic/css/small.css\" media=\"all\">\\n    <link rel=\"stylesheet\" type=\"text/css\" href=\"/nombresstatic/css/printer.css\" media=\"print\">\\n    <link rel=\"stylesheet\" type=\"text/css\" href=\"/nombresstatic/css/base.css\" media=\"all\">\\n\\n    \\n\\n    <script src=\"/nombresstatic/js/jquery.js\" type=\"text/javascript\"></script>\\n    <script>var $ = jQuery</script>\\n    <script src=\"/nombresstatic/js/unal.js\" type=\"text/javascript\"></script>\\n    <script src=\"/nombresstatic/js/jquery-ui.min.js\" type=\"text/javascript\"></script>\\n    <!--[if lt IE 9]><script src=\"js/html5shiv.js\" type=\"text/javascript\"></script><![endif]-->\\n    <!--[if lt IE 9]><script src=\"js/respond.js\" type=\"text/javascript\"></script><![endif]-->\\n\\n\\n    <title>Inicio - Nombres Comunes Plantas de Colombia</title>\\n    <script type=\"text/javascript\">\\n\\n     function setSizeImage(){\\n           var height = jQuery(document).height();\\n           height = height;\\n           jQuery(\".home-image\").height(height);\\n         }\\n\\n         function setSizeDetalle(){\\n             var height = jQuery(document).height();\\n             height = height - jQuery(\"footer\").height();\\n             height = height - 80;\\n             jQuery(\".detalle\").height(height);\\n           }\\n\\n           jQuery(document).ready(setSizeImage);\\n           jQuery(document).ready(setSizeDetalle);\\n\\n    </script>\\n\\n\\n\\n\\t<style type=\"text/css\">}\\n\\t\\t.paginator li a.active {background-color: #F4D188; color: black;}\\n\\t\\t.pagination a.active {background-color: #F4D188;color: black;}\\n\\t</style>\\n\\n\\n<script>\\n  (function(i,s,o,g,r,a,m){i[\\'GoogleAnalyticsObject\\']=r;i[r]=i[r]||function(){\\n  (i[r].q=i[r].q||[]).push(arguments)},i[r].l=1*new Date();a=s.createElement(o),\\n  m=s.getElementsByTagName(o)[0];a.async=1;a.src=g;m.parentNode.insertBefore(a,m)\\n  })(window,document,\\'script\\',\\'https://www.google-analytics.com/analytics.js\\',\\'ga\\');\\n\\n  ga(\\'create\\', \\'UA-92894817-1\\', \\'auto\\');\\n  ga(\\'send\\', \\'pageview\\');\\n\\n</script>\\n</head>\\n\\n\\n<body>\\n   \\n\\n  <div id=\"services\">\\n    <div class=\"indicator hidden-xs\"></div>\\n    <ul class=\"dropdown-menu\">\\n      <li>\\n        <a href=\"http://correo.unal.edu.co\" target=\"_blank\"><img src=\"/nombresstatic/images/icnServEmail.png\" width=\"32\" height=\"32\" alt=\"Correo Electrónico\">Correo Electrónico</a>\\n      </li>\\n      <li>\\n        <a href=\"http://www.sia.unal.edu.co\" target=\"_blank\"><img src=\"/nombresstatic/images/icnServSia.png\" width=\"32\" height=\"32\" alt=\"Sistema de Información Académica\">Sistema de Información Académica</a>\\n      </li>\\n      <li>\\n        <a href=\"http://www.sinab.unal.edu.co\" target=\"_blank\"><img src=\"/nombresstatic/images/icnServLibrary.png\" width=\"32\" height=\"32\" alt=\"Biblioteca\">Biblioteca</a>\\n      </li>\\n      <li>\\n        <a href=\"http://168.176.5.43:8082/Convocatorias/indice.iface\" target=\"_blank\"><img src=\"/nombresstatic/images/icnServCall.png\" width=\"32\" height=\"32\" alt=\"Convocatorias\">Convocatorias</a>\\n      </li>\\n      <li>\\n        <a href=\"http://identidad.unal.edu.co\"><img src=\"/nombresstatic/images/icnServIdentidad.png\" width=\"32\" height=\"32\" alt=\"Identidad U.N.\">Identidad U.N.</a>\\n      </li>\\n    </ul>\\n  </div>\\n\\n  <header id=\"unalTop\">\\n    <div class=\"logo\">\\n      <a href=\"http://unal.edu.co\">\\n      <!--[if (gte IE 9)|!(IE)]><!-->\\n      <svg width=\"93%\" height=\"93%\">\\n          <image xlink:href=\"/nombresstatic/images/escudoUnal.svg\" width=\"100%\" height=\"100%\" class=\"hidden-print\"/>\\n      </svg>\\n      <!--<![endif]-->\\n      <!--[if lt IE 9]>\\n      <img src=\"images/escudoUnal.png\" width=\"93%\" height=\"auto\" class=\"hidden-print\"/>\\n      <![endif]-->\\n      <img src=\"/nombresstatic/images/escudoUnal_black.png\" class=\"visible-print\" />\\n    </a>\\n  </div>\\n\\n  <div class=\"seal\">\\n    <img class=\"hidden-print\" alt=\"Escudo de la República de Colombia\" src=\"/nombresstatic/images/sealColombia.png\" width=\"66\" height=\"66\" />\\n    <img class=\"visible-print\" alt=\"Escudo de la República de Colombia\" src=\"/nombresstatic/images/sealColombia_black.png\" width=\"66\" height=\"66\" />\\n  </div>\\n\\n  <div class=\"firstMenu\">\\n    <button class=\"navbar-toggle collapsed\" type=\"button\" data-toggle=\"collapse\" data-target=\"#bs-navbar\" aria-controls=\"bs-navbar\" aria-expanded=\"false\">\\n      <span class=\"icon-bar\"></span>\\n      <span class=\"icon-bar\"></span>\\n      <span class=\"icon-bar\"></span>\\n    </button>\\n    <div class=\"btn-group languageMenu hidden-xs\">\\n      \\n\\n  \\n  <div class=\"btn btn-default dropdown-toggle\" data-toggle=\"dropdown\">\\n     ES <span class=\"caret\"></span>\\n  </div>\\n  \\n\\n  \\n  <ul class=\"dropdown-menu\" role=\"menu\">\\n    <li><a href=\"/nombrescomunes/en/resultados/ncientifico/Abarema%20adenophora/\">EN</a></li>\\n  </ul>\\n  \\n\\n\\n\\n    </div>\\n\\n    <ul class=\"socialLinks hidden-xs\">\\n      <li>\\n        <a href=\"https://www.facebook.com/UNColombia\" target=\"_blank\" class=\"facebook\" title=\"Página oficial en Facebook\"></a>\\n      </li>\\n      <li>\\n        <a href=\"https://twitter.com/UNColombia\" target=\"_blank\" class=\"twitter\" title=\"Cuenta oficial en Twitter\"></a>\\n      </li>\\n      <li>\\n        <a href=\"https://www.youtube.com/channel/UCnE6Zj2llVxcvL5I38B0Ceg\" target=\"_blank\" class=\"youtube\" title=\"Canal oficial de Youtube\"></a>\\n      </li>\\n      <li>\\n        <a href=\"http://agenciadenoticias.unal.edu.co/nc/sus/type/rss2.html\" target=\"_blank\" class=\"rss\" title=\"Suscripción a canales de información RSS\"></a>\\n      </li>\\n    </ul>\\n\\n  <div class=\"navbar-default\">\\n    <nav id=\"profiles\">\\n      <ul class=\"nav navbar-nav dropdown-menu\">\\n        <li class=\"item_Aspirantes #>\"><a href=\"index.html#\">Aspirantes</a></li>\\n        <li class=\"item_Estudiantes #>\"><a href=\"index.html#\">Estudiantes</a></li>\\n        <li class=\"item_Egresados #>\"><a href=\"index.html#\">Egresados</a></li>\\n        <li class=\"item_Docentes #>\"><a href=\"index.html#\">Docentes</a></li>\\n        <li class=\"item_Administrativos #>\"><a href=\"index.html#\">Administrativos</a></li>\\n      </ul>\\n    </nav>\\n  </div>\\n</div> <!--cierre de \"firstMenu\"-->\\n\\n<div id=\"bs-navbar\" class=\"navbar-collapse collapse navigation\">\\n  <div class=\"site-url\">\\n    <a href=\"/nombrescomunes\">biovirtual.unal.edu.co/nombrescomunes</a>\\n  </div>\\n  <div class=\"buscador\">\\n    <div class=\"gcse-searchbox-only\" data-resultsUrl=\"http://unal.edu.co/resultados-de-la-busqueda/\" data-newWindow=\"true\"></div>\\n  </div>\\n  <div class=\"mainMenu\">\\n    \\n\\n  \\n    <div class=\"btn-group\">\\n      <div class=\"btn btn-default dropdown-toggle\" data-toggle=\"dropdown\">\\n        Acerca de esta obra<span class=\"caret\"></span>\\n      </div>\\n      <ul class=\"dropdown-menu\">\\n        \\n          <li><a href=\"/nombrescomunes/es/acerca-de-esta-obra/presentacion/\">Presentación</a><span class=\"caret-right\"></span></li>\\n        \\n          <li><a href=\"/nombrescomunes/es/acerca-de-esta-obra/autores/\">Autores</a><span class=\"caret-right\"></span></li>\\n        \\n          <li><a href=\"/nombrescomunes/es/acerca-de-esta-obra/como-se-recopilan-los-nombres/\">Cómo se recopilan los nombres</a><span class=\"caret-right\"></span></li>\\n        \\n          <li><a href=\"/nombrescomunes/es/acerca-de-esta-obra/la-obra-en-cifras/\">La obra en cifras</a><span class=\"caret-right\"></span></li>\\n        \\n          <li><a href=\"/nombrescomunes/es/acerca-de-esta-obra/creditos/\">Créditos</a><span class=\"caret-right\"></span></li>\\n        \\n      </ul>\\n    </div>\\n  \\n\\n  \\n    <div class=\"btn-group\">\\n      <a href=\"/nombrescomunes/es/agradecimientos/\" class=\"btn btn-default dropdown-toggle\">Agradecimientos</a>\\n      <span class=\"caret-right\"></span>\\n    </div>\\n  \\n\\n  \\n    <div class=\"btn-group\">\\n      <div class=\"btn btn-default dropdown-toggle\" data-toggle=\"dropdown\">\\n        Fuentes de Información<span class=\"caret\"></span>\\n      </div>\\n      <ul class=\"dropdown-menu\">\\n        \\n          <li><a href=\"/nombrescomunes/es/fuentes-de-informacion/fuentes-bibliograficas/\">Fuentes Bibliográficas</a><span class=\"caret-right\"></span></li>\\n        \\n          <li><a href=\"/nombrescomunes/es/fuentes-de-informacion/agradecimientos/\">Ejemplares de Herbario</a><span class=\"caret-right\"></span></li>\\n        \\n          <li><a href=\"/nombrescomunes/es/fuentes-de-informacion/otras-fuentes/\">Otras Fuentes</a><span class=\"caret-right\"></span></li>\\n        \\n      </ul>\\n    </div>\\n  \\n\\n  \\n    <div class=\"btn-group\">\\n      <a href=\"/nombrescomunes/es/contactenos/\" class=\"btn btn-default dropdown-toggle\">Contáctenos</a>\\n      <span class=\"caret-right\"></span>\\n    </div>\\n  \\n\\n  \\n    <div class=\"btn-group\">\\n      <a href=\"/nombrescomunes/es/citar-como/\" class=\"btn btn-default dropdown-toggle\">Citar como</a>\\n      <span class=\"caret-right\"></span>\\n    </div>\\n  \\n\\n\\n    <!--div class=\"btn-group\"><a href=\"index.html#\" class=\"btn btn-default dropdown-toggle\">Item menu ejemplo</a><span class=\"caret-right\"></span></div-->\\n    <div class=\"btn-group\">\\n      <div class=\"btn btn-default dropdown-toggle\" data-toggle=\"dropdown\">Sedes<span class=\"caret\"></span></div>\\n        <ul class=\"dropdown-menu dropItem-16\">\\n          <li><a href=\"http://www.imani.unal.edu.co\" target=\"_blank\">Amazonia</a><span class=\"caret-right\"></span></li>\\n          <li><a href=\"http://www.bogota.unal.edu.co\" target=\"_blank\">Bogotá</a><span class=\"caret-right\"></span></li>\\n          <li><a href=\"http://www.caribe.unal.edu.co\" target=\"_blank\">Caribe</a><span class=\"caret-right\"></span></li>\\n          <li><a href=\"http://www.manizales.unal.edu.co\" target=\"_blank\">Manizales</a><span class=\"caret-right\"></span></li>\\n          <li><a href=\"http://www.medellin.unal.edu.co\" target=\"_blank\">Medellín</a><span class=\"caret-right\"></span></li>\\n          <li><a href=\"http://www.orinoquia.unal.edu.co\" target=\"_blank\">Orinoquia</a><span class=\"caret-right\"></span></li>\\n          <li><a href=\"http://www.palmira.unal.edu.co\" target=\"_blank\">Palmira</a><span class=\"caret-right\"></span></li>\\n          <li><a href=\"http://www.tumaco-pacifico.unal.edu.co\" target=\"_blank\">Tumaco</a><span class=\"caret-right\"></span></li>\\n        </ul>\\n    </div>\\n  </div>\\n  <div class=\"btn-group hidden-sm hidden-md hidden-lg hidden-print\">\\n    <div class=\"btn btn-default dropdown-toggle\" data-toggle=\"dropdown\" id=\"unalOpenMenuServicios\" data-target=\"#services\">Servicios<span class=\"caret\"> </span>\\n    </div>\\n  </div>\\n  <div class=\"btn-group hidden-sm hidden-md hidden-lg hidden-print\">\\n    <div class=\"btn btn-default dropdown-toggle\" data-toggle=\"dropdown\" id=\"unalOpenMenuPerfiles\" data-target=\"#profiles\">Perfiles<span class=\"caret\"> </span>\\n    </div>\\n  </div>\\n</div>\\n\\n</header>\\n\\n\\n\\n \\n\\n\\n\\n<div class=\"logoBar\">\\n  <div class=\"logo kreon\">\\n    <img alt=\"Nombres Comunes\" src=\"/nombresstatic/images/logo-small.png\"  width=\"41\" height=\"41\">\\n    <span>NOMBRES COMUNES DE LAS PLANTAS DE COLOMBIA</span>\\n  </div>\\n</div>\\n\\n<main class=\"detalle-list\">\\n  <div class=\"breadcrumb-class\">Está en:&nbsp;\\n    <a href=\"/nombrescomunes/es/\" target=\"_self\" title=\"Inicio\">Inicio</a>&nbsp;&nbsp;/&nbsp;&nbsp;\\n\\n    <b>\\n      Resultados de búsqueda:\\n      \\n    </b>\\n\\n  </div>\\n\\n<div id=\"c5\" class=\"csc-default\">\\n    <div class=\"tx-biovirtual\">\\n      <div class=\"list\">\\n        <div class=\"list-filters col-xs-12 col-sm-4 col-md-4\">\\n\\n          \\n          <div class=\"logo kreon\">\\n            <img alt=\"Catálogo de las plantas de Colombia\" src=\"/nombresstatic/images/Icono-small.png\" width=\"70\" height=\"69\" />\\n            <br/>NOMBRES COMUNES<br/><small>DE LAS PLANTAS<br/>DE COLOMBIA</small>\\n          </div>\\n  <div class=\"cnt\">\\n\\n          <form method=\"get\" name=\"namesSearch\" class=\"namesListSearch\" id=\"namesSearch\">\\n\\n\\n                <div class=\"filter\">\\n                  <label>Nombre Común</label>\\n                  <span role=\"status\" aria-live=\"polite\" class=\"ui-helper-hidden-accessible\"></span>\\n                  <input autocomplete=\"off\" class=\"comun ui-autocomplete-input ui-autocomplete-loading\" type=\"text\" name=\"ncomun\"\\n                  value=\"\"\\n                  placeholder=\"Ingrese nombre común\" id=\"bcomun\" >\\n                </div>\\n\\n                <div class=\"filter\">\\n                  <label>Nombre Científico</label>\\n                  <span role=\"status\" aria-live=\"polite\" class=\"ui-helper-hidden-accessible\"></span>\\n                  <input autocomplete=\"off\" class=\"comun ui-autocomplete-input ui-autocomplete-loading\" type=\"text\" name=\"ncientifico\"\\n                  value=\"\"\\n                  placeholder=\"Ingrese Nombre Científico\" id=\"bscientific\">\\n                </div>\\n\\n\\n                <div class=\"filter\">\\n                  <label>Región</label>\\n                  <span role=\"status\" aria-live=\"polite\" class=\"ui-helper-hidden-accessible\"></span>\\n                  <select name=\"region\" id=\"filtroregion\">\\n                    <option value=\"\"> -- </option>\\n                    \\n                        \\n\\n                    \\n                  </select>\\n                </div>\\n\\n\\n                <div class=\"search\">\\n                  <input  type=\"submit\" class=\"searchAdv\" value=\"Buscar\" id=\"advancebutton\">\\n                </div>\\n\\n          </form>\\n\\n  </div>\\n\\n          \\n\\n        </div>\\n\\n          <div class=\"list-results col-xs-12 col-sm-8 col-md-8\">\\n            \\n\\n\\n\\n<div class=\"titulo-nombre\">\\n\\t<i>Abarema adenophora</i> (Fabáceas/Mimosóideas)\\n</div>\\n<div class=\"header\">\\n\\tEl nombre científico <i> Abarema adenophora</i> se asocia a  3  nombres comunes\\n</div>\\n\\n\\n<div class=\"listado-genero\">\\n  \\t\\n    <a href=\"/nombrescomunes/es/detalle/ncientifico/16001/\" target=\"_blank\">\\n    \\t<p style=\"color:#98A867;\">guamo de mico</p>\\n  \\t</a>\\n    <p style=\"border-left-width: 60px; margin-left: 30px;\">\\n      \\n          Amazonas\\n      \\n    </p>\\n    <br><br>\\n    \\n    <a href=\"/nombrescomunes/es/detalle/ncientifico/16000/\" target=\"_blank\">\\n    \\t<p style=\"color:#98A867;\">chimbillo bravo</p>\\n  \\t</a>\\n    <p style=\"border-left-width: 60px; margin-left: 30px;\">\\n      \\n          Amazonas\\n      \\n    </p>\\n    <br><br>\\n    \\n    <a href=\"/nombrescomunes/es/detalle/ncientifico/16002/\" target=\"_blank\">\\n    \\t<p style=\"color:#98A867;\">guamo</p>\\n  \\t</a>\\n    <p style=\"border-left-width: 60px; margin-left: 30px;\">\\n      \\n          Amazonas,\\n      \\n          Caquetá\\n      \\n    </p>\\n    <br><br>\\n    \\n</div>\\n\\n\\n\\n\\n\\n\\n\\n\\n\\n\\n\\n\\n\\n        </div>\\n\\n      </div>\\n    </div>\\n  </div>\\n\\n</main>\\n\\n\\n\\n\\n\\n\\n\\n    <footer class=\"clear\">\\n        <nav class=\"col-md-3 col-lg-3 col-sm-3 col-xs-4 col-xxs-6 gobiernoLinea\">\\n            <a href=\"http://www.legal.unal.edu.co\" target=\"_top\">Régimen Legal</a>\\n            <a href=\"http://www.unal.edu.co/dnp\" target=\"_top\">Talento humano</a>\\n            <a href=\"http://www.unal.edu.co/contratacion/\" target=\"_top\">Contratación</a>\\n            <a href=\"http://www.unal.edu.co/dnp/\" target=\"_top\">Ofertas de empleo</a>\\n            <a href=\"http://rendiciondecuentas.unal.edu.co/\" target=\"_top\">Rendición de cuentas</a>\\n            <a href=\"http://docentes.unal.edu.co/concurso-profesoral/\" target=\"_top\">Concurso docente</a>\\n            <a href=\"http://www.pagovirtual.unal.edu.co/\" target=\"_top\">Pago Virtual</a>\\n            <a href=\"http://www.unal.edu.co/control_interno/index.html\" target=\"_top\">Control interno</a>\\n            <a href=\"http://unal.edu.co/siga/\" target=\"_top\">Calidad</a>\\n            <a href=\"http://unal.edu.co/buzon-de-notificaciones/\" target=\"_self\">Buzón de notificaciones</a>\\n        </nav>\\n        <nav class=\"col-md-3 col-lg-3 col-sm-3 col-xs-4 col-xxs-6 gobiernoLinea\">\\n            <a href=\"http://correo.unal.edu.co\" target=\"_top\">Correo institucional</a>\\n            <a href=\"index.html#\">Mapa del sitio</a>\\n            <a href=\"http://redessociales.unal.edu.co\" target=\"_top\">Redes Sociales</a>\\n            <a href=\"index.html#\">FAQ</a>\\n            <a href=\"http://unal.edu.co/quejas-y-reclamos/\" target=\"_self\">Quejas y reclamos</a>\\n            <a href=\"http://unal.edu.co/atencion-en-linea/\" target=\"_self\">Atención en línea</a>\\n            <a href=\"http://unal.edu.co/encuesta/\" target=\"_self\">Encuesta</a>\\n            <a href=\"index.html#\">Contáctenos</a>\\n            <a href=\"http://www.onp.unal.edu.co\" target=\"_top\">Estadísticas</a>\\n            <a href=\"index.html#\">Glosario</a>\\n        </nav>\\n        <div class=\"col-md-4 col-lg-4 col-sm-4 col-xs-4 col-xxs-12 footer-info\">\\n            <p class=\"col-sm-12 col-md-6 contacto\">\\n                <b>Contacto página web:</b><br/> Instituo de Ciencias Naturales <br/> Edificio 425 Of. 213<br/> Bogotá D.C., Colombia<br/> (+57 1) 316 5000 Ext. 11513\\n            </p>\\n            <p class=\"col-sm-12 col-md-6 derechos\">\\n                © Copyright 2017<br/> Algunos derechos reservados.<br/>\\n                <a title=\"Comuníquese con el administrador de este sitio web\" href=\"mailto:informatica_icn@unal.edu.co\">informatica_icn@unal.edu.co</a><br/>\\n                <a href=\"/nombrescomunes/es/acercadesitio/\">Acerca de este sitio web</a><br/> Actualización:23/02/17\\n            </p>\\n        </div>\\n\\n        <div class=\"col-md-2 col-lg-2 col-sm-2 col-xs-12 logos\">\\n            <div class=\"col-xs-6 col-sm-12 col-md-6 no-padding\">\\n                <a class=\"col-xs-6 col-sm-12\" href=\"http://www.orgulloun.unal.edu.co\">\\n                    <img class=\"hidden-print\" alt=\"Orgullo UN\" src=\"/nombresstatic/images/log_orgullo.png\" width=\"78\" height=\"21\" />\\n                    <img class=\"visible-print\" alt=\"Orgullo UN\" src=\"/nombresstatic/images/log_orgullo_black.png\" width=\"94\" height=\"37\" />\\n                </a>\\n\\n                <a class=\"col-xs-6 col-sm-12 imgAgencia\" href=\"http://www.agenciadenoticias.unal.edu.co/inicio.html\">\\n                    <img class=\"hidden-print\" alt=\"Agencia de noticias\" src=\"/nombresstatic/images/log_agenc.png\" width=\"94\" height=\"25\" />\\n                    <img class=\"visible-print\" alt=\"Agencia de noticias\" src=\"/nombresstatic/images/log_agenc_black.png\" width=\"94\" height=\"37\" />\\n                </a>\\n            </div>\\n            <div class=\"col-xs-6 col-sm-12 col-md-6 no-padding\">\\n                <a class=\"col-xs-6 col-sm-12\" href=\"https://www.sivirtual.gov.co/memoficha-entidad/-/entidad/T0356\">\\n                    <img alt=\"Trámites en línea\" src=\"/nombresstatic/images/log_gobiern.png\" width=\"67\" height=\"51\" />\\n                </a>\\n\\n                <a class=\"col-xs-6 col-sm-12\" href=\"http://www.contaduria.gov.co/\">\\n                    <img alt=\"Contaduría general de la republica\" src=\"/nombresstatic/images/log_contra.png\" width=\"67\" height=\"51\" />\\n                </a>\\n            </div>\\n\\n        </div>\\n    </footer>\\n      \\n                        <script type=\"text/javascript\">\\n                          jQuery(document).ready(function($){\\n                              var url = \"/nombrescomunes/es/listaregiones/\"\\n                              var $select = $(\\'#filtroregion\\');\\n                              jQuery.getJSON(url,function(result){\\n                                var toappend = \\'\\';\\n                                   $.each(result,function(i, item){\\n                                       toappend=toappend + \\'<option value=\"\\'+ item+\\'\">\\'+item+\\'</option>\\'\\n                                   });\\n                                    jQuery(\\'#filtroregion\\').append(toappend);\\n                               });\\n                            });\\n                        </script>\\n                        \\n\\n<script type=\"text/javascript\">\\n\\nfunction getSuggestionComun(request,callback){\\n    var url = \"/nombrescomunes/es/suggestion/comun/\";\\n    var data = \\'termino=\\' + request.term;\\n    jQuery.getJSON(url,data,function(data){callback(data);});\\n}\\n\\nfunction getSuggestionScientific(request,callback){\\n      var url = \"/nombrescomunes/es/suggestion/scientific/\";\\n      var data = \\'termino=\\' + request.term;\\n      jQuery.getJSON(url,data,function(data){callback(data);});\\n  }\\n\\n\\n\\n\\njQuery(document).ready(function($){\\n\\n    $(\\'#bcomun\\').on(\\'focus\\',function(){\\n      jQuery(\"#bcomun\").autocomplete({source:getSuggestionComun});\\n    });\\n    $(\\'#bscientific\\').on(\\'focus\\',function(){\\n      jQuery(\"#bscientific\").autocomplete({source:getSuggestionScientific});\\n\\n    });\\n\\n\\n    var adv =  \"/nombrescomunes/es/advanceSearch/\";\\n    $(\\'#advancebutton\\').click(function(e){\\n      e.preventDefault();\\n      if ((!$(\\'#filtroregion\\').val()) && ($(\\'#bcomun\\').val().length==0) &&  ($(\\'#bscientific\\').val().length==0)){\\n        alert (\"Debe ingresar al menos un nombre.\");\\n      }\\n      else if ( $(\\'#bcomun\\').val().length > 0 &&  $(\\'#bscientific\\').val().length > 0) {\\n        alert (\"PRIORIDAD PARA NOMBRE COMUN: \\\\n Se realizará la consulta pero se buscará por Nombre Común.\");\\n        $(\"#namesSearch\").attr(\"action\", adv);\\n        $(\"#namesSearch\").submit();\\n      }\\n      else if(($(\\'#filtroregion\\').val()) && ($(\\'#bcomun\\').val().length==0) &&  ($(\\'#bscientific\\').val().length==0)){\\n        alert(\\'Consulta no válida. Si selecciona una región, debe incluir diligenciar al menos otro campo (N.común ó N.Científico )\\');\\n      }\\n      else{\\n        $(\"#namesSearch\").attr(\"action\", adv);\\n        $(\"#namesSearch\").submit();\\n      }\\n    });\\n\\n});\\n\\n</script>\\n\\n\\n\\n</body>\\n</html>\\n'"
      ]
     },
     "execution_count": 34,
     "metadata": {},
     "output_type": "execute_result"
    }
   ],
   "source": [
    "# Se define el user agent del navegador que vamos a emplear\n",
    "headers = {\n",
    "    \"user-agent\": \"Mozilla/5.0 (Windows NT 10.0; Win64; x64) AppleWebKit/537.36 (KHTML, like Gecko) Chrome/119.0.0.0 Safari/537.36 Edg/119.0.0.0\"\n",
    "}\n",
    "\n",
    "res = requests.get(url, headers=headers)\n",
    "\n",
    "res.text"
   ]
  },
  {
   "cell_type": "code",
   "execution_count": 35,
   "metadata": {},
   "outputs": [],
   "source": [
    "# Generar objeto soup\n",
    "soup = BeautifulSoup(res.text, \"html.parser\")"
   ]
  },
  {
   "cell_type": "code",
   "execution_count": 36,
   "metadata": {},
   "outputs": [
    {
     "name": "stdout",
     "output_type": "stream",
     "text": [
      "['Guamo de mico', 'Chimbillo bravo', 'Guamo']\n",
      "3\n"
     ]
    }
   ],
   "source": [
    "# Encontrar un nombre de la especie\n",
    "list_commonames = [a.p.text.strip() for a in soup.find(\"div\", class_=\"listado-genero\").find_all('a')]\n",
    "list_names_fin = [palabra.capitalize() for palabra in list_commonames]\n",
    "print(list_names_fin)\n",
    "print(len(list_names_fin))"
   ]
  },
  {
   "cell_type": "code",
   "execution_count": 37,
   "metadata": {},
   "outputs": [
    {
     "name": "stdout",
     "output_type": "stream",
     "text": [
      "['Amazonas', 'Amazonas', 'Amazonas, Caquetá']\n",
      "3\n"
     ]
    }
   ],
   "source": [
    "#Encontrar dptos para cada uno de los nombres\n",
    "\n",
    "dptos = soup.find(\"div\", class_=\"listado-genero\").find_all('p', style=\"border-left-width: 60px; margin-left: 30px;\")\n",
    "# Obtener el texto de estos elementos y limpiarlo\n",
    "list_dptos = []\n",
    "for element in dptos:\n",
    "    texto = element.get_text()\n",
    "    texto_limpio = ' '.join(texto.split())\n",
    "    list_dptos.append(texto_limpio)\n",
    "\n",
    "print(list_dptos)\n",
    "print(len(list_dptos))"
   ]
  },
  {
   "cell_type": "code",
   "execution_count": 38,
   "metadata": {},
   "outputs": [
    {
     "name": "stdout",
     "output_type": "stream",
     "text": [
      "['Abarema adenophora', 'Abarema adenophora', 'Abarema adenophora']\n",
      "3\n"
     ]
    }
   ],
   "source": [
    "name_sp = [soup.find(\"div\", class_=\"titulo-nombre\").text.strip().split(\" (\")[0]]\n",
    "name_sp *= int(len(list_dptos))\n",
    "print(name_sp)\n",
    "print(len(name_sp))"
   ]
  },
  {
   "cell_type": "code",
   "execution_count": 39,
   "metadata": {},
   "outputs": [
    {
     "data": {
      "text/html": [
       "<div>\n",
       "<style scoped>\n",
       "    .dataframe tbody tr th:only-of-type {\n",
       "        vertical-align: middle;\n",
       "    }\n",
       "\n",
       "    .dataframe tbody tr th {\n",
       "        vertical-align: top;\n",
       "    }\n",
       "\n",
       "    .dataframe thead th {\n",
       "        text-align: right;\n",
       "    }\n",
       "</style>\n",
       "<table border=\"1\" class=\"dataframe\">\n",
       "  <thead>\n",
       "    <tr style=\"text-align: right;\">\n",
       "      <th></th>\n",
       "      <th>Name Specie</th>\n",
       "      <th>Common Name</th>\n",
       "      <th>Location</th>\n",
       "    </tr>\n",
       "  </thead>\n",
       "  <tbody>\n",
       "    <tr>\n",
       "      <th>0</th>\n",
       "      <td>Abarema adenophora</td>\n",
       "      <td>Guamo de mico</td>\n",
       "      <td>Amazonas</td>\n",
       "    </tr>\n",
       "    <tr>\n",
       "      <th>1</th>\n",
       "      <td>Abarema adenophora</td>\n",
       "      <td>Chimbillo bravo</td>\n",
       "      <td>Amazonas</td>\n",
       "    </tr>\n",
       "    <tr>\n",
       "      <th>2</th>\n",
       "      <td>Abarema adenophora</td>\n",
       "      <td>Guamo</td>\n",
       "      <td>Amazonas, Caquetá</td>\n",
       "    </tr>\n",
       "  </tbody>\n",
       "</table>\n",
       "</div>"
      ],
      "text/plain": [
       "          Name Specie      Common Name           Location\n",
       "0  Abarema adenophora    Guamo de mico           Amazonas\n",
       "1  Abarema adenophora  Chimbillo bravo           Amazonas\n",
       "2  Abarema adenophora            Guamo  Amazonas, Caquetá"
      ]
     },
     "execution_count": 39,
     "metadata": {},
     "output_type": "execute_result"
    }
   ],
   "source": [
    "data = {\n",
    "    'Name Specie': name_sp,\n",
    "    'Common Name': list_names_fin,\n",
    "    'Location': list_dptos\n",
    "}\n",
    "\n",
    "# Convierte el diccionario en un DataFrame\n",
    "df = pd.DataFrame(data)\n",
    "df"
   ]
  },
  {
   "cell_type": "code",
   "execution_count": 40,
   "metadata": {},
   "outputs": [],
   "source": [
    "url = \"http://www.biovirtual.unal.edu.co/nombrescomunes/es/resultados/ncientifico/Abatia%20parviflora/\"\n",
    "res = requests.get(url, headers=headers)\n",
    "res.text\n",
    "# Generar objeto soup\n",
    "soup = BeautifulSoup(res.text, \"html.parser\")"
   ]
  },
  {
   "cell_type": "code",
   "execution_count": 41,
   "metadata": {},
   "outputs": [
    {
     "name": "stdout",
     "output_type": "stream",
     "text": [
      "['Chirlobirlo', 'Duraznillo', 'Sacaojos colorado']\n",
      "3\n"
     ]
    }
   ],
   "source": [
    "# Encontrar un nombre de la especie\n",
    "list_commonames = [a.p.text.strip() for a in soup.find(\"div\", class_=\"listado-genero\").find_all('a')]\n",
    "list_names_fin = [palabra.capitalize() for palabra in list_commonames]\n",
    "print(list_names_fin)\n",
    "print(len(list_names_fin))"
   ]
  },
  {
   "cell_type": "code",
   "execution_count": 42,
   "metadata": {},
   "outputs": [
    {
     "name": "stdout",
     "output_type": "stream",
     "text": [
      "['Antioquia, Cundinamarca', 'Cundinamarca', 'Andes']\n",
      "3\n"
     ]
    }
   ],
   "source": [
    "#Encontrar dptos para cada uno de los nombres\n",
    "\n",
    "dptos = soup.find(\"div\", class_=\"listado-genero\").find_all('p', style=\"border-left-width: 60px; margin-left: 30px;\")\n",
    "# Obtener el texto de estos elementos y limpiarlo\n",
    "list_dptos = []\n",
    "for element in dptos:\n",
    "    texto = element.get_text()\n",
    "    texto_limpio = ' '.join(texto.split())\n",
    "    list_dptos.append(texto_limpio)\n",
    "\n",
    "print(list_dptos)\n",
    "print(len(list_dptos))"
   ]
  },
  {
   "cell_type": "code",
   "execution_count": 43,
   "metadata": {},
   "outputs": [
    {
     "name": "stdout",
     "output_type": "stream",
     "text": [
      "['Abatia parviflora', 'Abatia parviflora', 'Abatia parviflora']\n",
      "3\n"
     ]
    }
   ],
   "source": [
    "name_sp = [soup.find(\"div\", class_=\"titulo-nombre\").text.strip().split(\" (\")[0]]\n",
    "name_sp *= int(len(list_dptos))\n",
    "print(name_sp)\n",
    "print(len(name_sp))"
   ]
  },
  {
   "cell_type": "code",
   "execution_count": 44,
   "metadata": {},
   "outputs": [
    {
     "data": {
      "text/html": [
       "<div>\n",
       "<style scoped>\n",
       "    .dataframe tbody tr th:only-of-type {\n",
       "        vertical-align: middle;\n",
       "    }\n",
       "\n",
       "    .dataframe tbody tr th {\n",
       "        vertical-align: top;\n",
       "    }\n",
       "\n",
       "    .dataframe thead th {\n",
       "        text-align: right;\n",
       "    }\n",
       "</style>\n",
       "<table border=\"1\" class=\"dataframe\">\n",
       "  <thead>\n",
       "    <tr style=\"text-align: right;\">\n",
       "      <th></th>\n",
       "      <th>Name Specie</th>\n",
       "      <th>Common Name</th>\n",
       "      <th>Location</th>\n",
       "    </tr>\n",
       "  </thead>\n",
       "  <tbody>\n",
       "    <tr>\n",
       "      <th>0</th>\n",
       "      <td>Abarema adenophora</td>\n",
       "      <td>Guamo de mico</td>\n",
       "      <td>Amazonas</td>\n",
       "    </tr>\n",
       "    <tr>\n",
       "      <th>1</th>\n",
       "      <td>Abarema adenophora</td>\n",
       "      <td>Chimbillo bravo</td>\n",
       "      <td>Amazonas</td>\n",
       "    </tr>\n",
       "    <tr>\n",
       "      <th>2</th>\n",
       "      <td>Abarema adenophora</td>\n",
       "      <td>Guamo</td>\n",
       "      <td>Amazonas, Caquetá</td>\n",
       "    </tr>\n",
       "    <tr>\n",
       "      <th>3</th>\n",
       "      <td>Abatia parviflora</td>\n",
       "      <td>Chirlobirlo</td>\n",
       "      <td>Antioquia, Cundinamarca</td>\n",
       "    </tr>\n",
       "    <tr>\n",
       "      <th>4</th>\n",
       "      <td>Abatia parviflora</td>\n",
       "      <td>Duraznillo</td>\n",
       "      <td>Cundinamarca</td>\n",
       "    </tr>\n",
       "    <tr>\n",
       "      <th>5</th>\n",
       "      <td>Abatia parviflora</td>\n",
       "      <td>Sacaojos colorado</td>\n",
       "      <td>Andes</td>\n",
       "    </tr>\n",
       "  </tbody>\n",
       "</table>\n",
       "</div>"
      ],
      "text/plain": [
       "          Name Specie        Common Name                 Location\n",
       "0  Abarema adenophora      Guamo de mico                 Amazonas\n",
       "1  Abarema adenophora    Chimbillo bravo                 Amazonas\n",
       "2  Abarema adenophora              Guamo        Amazonas, Caquetá\n",
       "3   Abatia parviflora        Chirlobirlo  Antioquia, Cundinamarca\n",
       "4   Abatia parviflora         Duraznillo             Cundinamarca\n",
       "5   Abatia parviflora  Sacaojos colorado                    Andes"
      ]
     },
     "execution_count": 44,
     "metadata": {},
     "output_type": "execute_result"
    }
   ],
   "source": [
    "data = {\n",
    "    'Name Specie': name_sp,\n",
    "    'Common Name': list_names_fin,\n",
    "    'Location': list_dptos\n",
    "}\n",
    "\n",
    "# Convierte el diccionario en un DataFrame\n",
    "df = pd.concat([df, pd.DataFrame(data)], ignore_index=True)\n",
    "df"
   ]
  },
  {
   "cell_type": "code",
   "execution_count": 45,
   "metadata": {},
   "outputs": [],
   "source": [
    "url = \"http://www.biovirtual.unal.edu.co/nombrescomunes/es/resultados/ncientifico/Abarema%20auriculata/\"\n",
    "res = requests.get(url, headers=headers)\n",
    "res.text\n",
    "# Generar objeto soup\n",
    "soup = BeautifulSoup(res.text, \"html.parser\")"
   ]
  },
  {
   "cell_type": "code",
   "execution_count": 70,
   "metadata": {},
   "outputs": [
    {
     "data": {
      "text/plain": [
       "'Búsqueda sin resultados'"
      ]
     },
     "execution_count": 70,
     "metadata": {},
     "output_type": "execute_result"
    }
   ],
   "source": [
    "filtrar_existentes = soup.find(\"div\", class_=\"titulo-nombre\").text.strip()\n",
    "clean_text = re.findall(r'[A-Za-zúÚ]+',filtrar_existentes)\n",
    "list_espacios = []\n",
    "# Iterar a través de la lista y agregar espacios a todas las palabras excepto la última\n",
    "for i in range(len(clean_text)):\n",
    "    if i < len(clean_text) - 1:\n",
    "        list_espacios.append(clean_text[i] + \" \")\n",
    "    else:\n",
    "        list_espacios.append(clean_text[i])\n",
    "\n",
    "# Convertir la lista en una cadena si es necesario\n",
    "resultado = \"\".join(list_espacios)"
   ]
  },
  {
   "cell_type": "code",
   "execution_count": 74,
   "metadata": {},
   "outputs": [
    {
     "name": "stdout",
     "output_type": "stream",
     "text": [
      "Pasalo\n"
     ]
    }
   ],
   "source": [
    "if resultado.lower() != 'búsqueda sin resultados':\n",
    "   print(\"Funciona\")\n",
    "else:\n",
    "   print(\"Pasalo\")\n",
    "\n"
   ]
  }
 ],
 "metadata": {
  "kernelspec": {
   "display_name": "Python 3",
   "language": "python",
   "name": "python3"
  },
  "language_info": {
   "codemirror_mode": {
    "name": "ipython",
    "version": 3
   },
   "file_extension": ".py",
   "mimetype": "text/x-python",
   "name": "python",
   "nbconvert_exporter": "python",
   "pygments_lexer": "ipython3",
   "version": "3.12.0"
  }
 },
 "nbformat": 4,
 "nbformat_minor": 2
}
